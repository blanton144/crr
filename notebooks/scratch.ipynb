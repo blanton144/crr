{
 "cells": [
  {
   "cell_type": "code",
   "execution_count": 1,
   "metadata": {},
   "outputs": [],
   "source": [
    "def fluxes_windowed(self, xcen=0., ycen=0.):\n",
    "    flux = np.zeros(self.nsamples) \n",
    "    for i in np.arange(self.nsamples):\n",
    "        flux[i] = (gauss_windowed(self.x[i] - xcen, self.sigma[i]) *\n",
    "                   gauss_windowed(self.y[i] - ycen, self.sigma[i]))\n",
    "    return(flux)\n"
   ]
  },
  {
   "cell_type": "code",
   "execution_count": null,
   "metadata": {},
   "outputs": [],
   "source": [
    "import scipy.special as special\n",
    "\n",
    "def gauss_windowed(x, sigma):\n",
    "    g = np.exp(- 0.5 * (x / sigma)**2) / (2. * sigma)\n",
    "    e1 = 0.5 * special.erf(sigma / np.sqrt(2.) - 1j * x / (np.sqrt(2) * sigma))\n",
    "    e2 = 0.5 * special.erf(- sigma / np.sqrt(2.) - 1j * x / (np.sqrt(2) * sigma))\n",
    "    return(g * (e1.real - e2.real))\n",
    "\n",
    "sigma = 1.\n",
    "xtest = -30. + 60. * (np.arange(10000) + 0.5) / np.float(10000)\n",
    "gg = np.exp(-0.5 * (xtest / sigma)**2) / (np.sqrt(2. * np.pi) * sigma)\n",
    "gw = gauss_windowed(xtest, sigma)\n",
    "\n",
    "plt.plot(xtest, gg, label='Gaussian')\n",
    "plt.plot(xtest, gw, label='Windowed Gaussian')\n",
    "plt.xlabel('X')\n",
    "plt.ylim([gw.min() * 1.3, gg.max() * 1.5])\n",
    "plt.legend(loc=2)"
   ]
  }
 ],
 "metadata": {
  "kernelspec": {
   "display_name": "Python 3",
   "language": "python",
   "name": "python3"
  },
  "language_info": {
   "codemirror_mode": {
    "name": "ipython",
    "version": 3
   },
   "file_extension": ".py",
   "mimetype": "text/x-python",
   "name": "python",
   "nbconvert_exporter": "python",
   "pygments_lexer": "ipython3",
   "version": "3.6.4"
  }
 },
 "nbformat": 4,
 "nbformat_minor": 2
}
